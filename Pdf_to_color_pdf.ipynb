{
  "cells": [
    {
      "cell_type": "markdown",
      "metadata": {
        "id": "ewv7dNJrcsNb"
      },
      "source": [
        "# Pdf to img"
      ]
    },
    {
      "cell_type": "code",
      "execution_count": null,
      "metadata": {
        "colab": {
          "base_uri": "https://localhost:8080/"
        },
        "id": "qXy7rugBcq8_",
        "outputId": "65f6a62a-6e57-4f01-fd5e-10c75d2b1898"
      },
      "outputs": [],
      "source": [
        "!apt-get install -y poppler-utils"
      ]
    },
    {
      "cell_type": "code",
      "execution_count": null,
      "metadata": {
        "colab": {
          "base_uri": "https://localhost:8080/"
        },
        "id": "XSHHHS4LcHsh",
        "outputId": "e308dde8-3b82-4bc0-8a6a-dd0664549910"
      },
      "outputs": [],
      "source": [
        "# Install the required library\n",
        "!pip install pdf2image\n",
        "\n",
        "# Import necessary libraries\n",
        "from pdf2image import convert_from_path\n",
        "import os\n",
        "\n",
        "# Function to convert PDF to images\n",
        "def pdf_to_images(pdf_file, output_folder):\n",
        "    # Check if the output folder exists, and create it if it doesn't\n",
        "    if not os.path.exists(output_folder):\n",
        "        os.makedirs(output_folder)\n",
        "\n",
        "    # Convert PDF to images\n",
        "    images = convert_from_path(pdf_file)\n",
        "\n",
        "    # Save each page as an image\n",
        "    for i, image in enumerate(images):\n",
        "        image_name = f\"page_{i+1}.jpg\"\n",
        "        image_path = os.path.join(output_folder, image_name)\n",
        "        image.save(image_path, \"JPEG\")\n",
        "        print(f\"Saved page {i+1} as {image_path}\")\n",
        "\n",
        "# Example usage\n",
        "pdf_file = \"/content/[ME] Ch-11 Kaiju No. 8 [@Manga_Edge].pdf\"  # Replace with the path to your PDF file\n",
        "output_folder = \"/content/output_images\"  # Replace with the desired output folder\n",
        "\n",
        "pdf_to_images(pdf_file, output_folder)"
      ]
    },
    {
      "cell_type": "markdown",
      "metadata": {
        "id": "AzSOdySTghpH"
      },
      "source": [
        "# Artistic Coluring"
      ]
    },
    {
      "cell_type": "code",
      "execution_count": null,
      "metadata": {
        "colab": {
          "base_uri": "https://localhost:8080/"
        },
        "id": "1L2WOkTcjmiH",
        "outputId": "3c3ea487-a312-473b-b618-861ced6cc6de"
      },
      "outputs": [],
      "source": [
        "!git clone https://github.com/jantic/DeOldify.git DeOldify"
      ]
    },
    {
      "cell_type": "code",
      "execution_count": null,
      "metadata": {
        "colab": {
          "base_uri": "https://localhost:8080/"
        },
        "id": "Xqr3WOu6jpvE",
        "outputId": "40cfd9f5-05a4-4789-8d54-c1ddda803d34"
      },
      "outputs": [],
      "source": [
        "cd DeOldify"
      ]
    },
    {
      "cell_type": "code",
      "execution_count": null,
      "metadata": {
        "colab": {
          "base_uri": "https://localhost:8080/"
        },
        "id": "wogCXvOxgj3m",
        "outputId": "76111a07-384a-4728-d70a-26158a55e8fd"
      },
      "outputs": [],
      "source": [
        "#NOTE:  This must be the first call in order to work properly!\n",
        "from deoldify import device\n",
        "from deoldify.device_id import DeviceId\n",
        "#choices:  CPU, GPU0...GPU7\n",
        "device.set(device=DeviceId.GPU0)"
      ]
    },
    {
      "cell_type": "code",
      "execution_count": null,
      "metadata": {
        "colab": {
          "base_uri": "https://localhost:8080/"
        },
        "id": "cmODQRwIn9aA",
        "outputId": "a308f12d-d7f3-4637-83da-79007481b3b8"
      },
      "outputs": [],
      "source": [
        "!pip install -r requirements-colab.txt"
      ]
    },
    {
      "cell_type": "code",
      "execution_count": null,
      "metadata": {
        "id": "-FRu8c5nn8h8"
      },
      "outputs": [],
      "source": [
        "import fastai\n",
        "from deoldify.visualize import *\n",
        "\n",
        "torch.backends.cudnn.benchmark = True"
      ]
    },
    {
      "cell_type": "code",
      "execution_count": null,
      "metadata": {
        "id": "Gw3QKkWGgnof"
      },
      "outputs": [],
      "source": [
        "\n",
        "from deoldify.visualize import *\n",
        "plt.style.use('dark_background')\n",
        "import warnings\n",
        "warnings.filterwarnings(\"ignore\", category=UserWarning, message=\".*?Your .*? set is empty.*?\")"
      ]
    },
    {
      "cell_type": "code",
      "execution_count": null,
      "metadata": {
        "id": "kdTzLNGVgtCU"
      },
      "outputs": [],
      "source": [
        "#Adjust render_factor (int) if image doesn't look quite right (max 64 on 11GB GPU).  The default here works for most photos.\n",
        "#It literally just is a number multiplied by 16 to get the square render resolution.\n",
        "#Note that this doesn't affect the resolution of the final output- the output is the same resolution as the input.\n",
        "#Example:  render_factor=21 => color is rendered at 16x21 = 336x336 px.\n",
        "render_factor=35"
      ]
    },
    {
      "cell_type": "code",
      "execution_count": null,
      "metadata": {
        "colab": {
          "base_uri": "https://localhost:8080/"
        },
        "id": "bXAUVSgfhxQi",
        "outputId": "5f9b38ec-f5be-41e7-eee2-7220983581cc"
      },
      "outputs": [],
      "source": [
        "!mkdir 'models'\n",
        "!wget https://data.deepai.org/deoldify/ColorizeArtistic_gen.pth -O ./models/ColorizeArtistic_gen.pth"
      ]
    },
    {
      "cell_type": "code",
      "execution_count": null,
      "metadata": {
        "colab": {
          "base_uri": "https://localhost:8080/"
        },
        "id": "7EJNa07aiCRk",
        "outputId": "7a1c686b-4555-4e3e-904b-d93db496e951"
      },
      "outputs": [],
      "source": [
        "colorizer = get_image_colorizer(artistic=True)"
      ]
    },
    {
      "cell_type": "code",
      "execution_count": null,
      "metadata": {
        "id": "dfzeuZeugxrd"
      },
      "outputs": [],
      "source": [
        "# #NOTE:  Max is 45 with 11GB video cards. 35 is a good default\n",
        "# render_factor=35\n",
        "\n",
        "# source_path = '/content/output_images/page_10.jpg'\n",
        "# result_path = None\n",
        "\n",
        "# result_path = colorizer.plot_transformed_image(path=source_path, render_factor=render_factor, compare=False)\n",
        "\n",
        "# show_image_in_notebook(result_path)"
      ]
    },
    {
      "cell_type": "code",
      "execution_count": null,
      "metadata": {
        "colab": {
          "base_uri": "https://localhost:8080/",
          "height": 1000
        },
        "id": "BK2lQJP4g1Xr",
        "outputId": "1c5ad320-59dd-40fd-aa9d-8256d5ed18da"
      },
      "outputs": [],
      "source": [
        "import os\n",
        "from pathlib import Path\n",
        "from PIL import Image\n",
        "\n",
        "# Set the render_factor (higher values produce better quality but take longer)\n",
        "render_factor = 35\n",
        "\n",
        "# Set the source and destination folders\n",
        "source_folder = '/content/output_images/'\n",
        "dest_folder = '/content/color_output/'\n",
        "\n",
        "# Create the destination folder if it doesn't exist\n",
        "os.makedirs(dest_folder, exist_ok=True)\n",
        "\n",
        "# Loop through all files in the source folder\n",
        "for filename in os.listdir(source_folder):\n",
        "    # Check if the file is an image\n",
        "    if filename.endswith('.jpg') or filename.endswith('.png'):\n",
        "        source_path = os.path.join(source_folder, filename)\n",
        "\n",
        "        # Colorize the image\n",
        "        result_path = colorizer.plot_transformed_image(path=source_path, render_factor=render_factor, compare=True)\n",
        "\n",
        "        # Save the colorized image to the destination folder\n",
        "        dest_path = os.path.join(dest_folder, filename)\n",
        "        image = Image.open(result_path)\n",
        "        image.save(dest_path)\n",
        "        print(f\"Saved colorized image to {dest_path}\")"
      ]
    },
    {
      "cell_type": "markdown",
      "metadata": {
        "id": "4D61d-YekkFL"
      },
      "source": [
        "# Color PDF"
      ]
    },
    {
      "cell_type": "code",
      "execution_count": null,
      "metadata": {
        "colab": {
          "base_uri": "https://localhost:8080/"
        },
        "id": "M09BjU-plFAD",
        "outputId": "80847014-5e2d-4e92-f424-347a5d2c2b8f"
      },
      "outputs": [],
      "source": [
        "!pip install img2pdf"
      ]
    },
    {
      "cell_type": "code",
      "execution_count": null,
      "metadata": {
        "colab": {
          "base_uri": "https://localhost:8080/"
        },
        "id": "nZY-Jf5Ul_pE",
        "outputId": "545c2b5e-e097-453a-da1d-2a0e1b080849"
      },
      "outputs": [],
      "source": [
        "import os\n",
        "from PIL import Image\n",
        "from img2pdf import convert\n",
        "import re\n",
        "\n",
        "# Set the input and output paths\n",
        "input_folder = '/content/color_output'\n",
        "output_path = '/content/combined1.pdf'\n",
        "\n",
        "# Get a list of all image files in the input folder\n",
        "image_files = [os.path.join(input_folder, f) for f in os.listdir(input_folder) if f.endswith('.jpg') or f.endswith('.png')]\n",
        "\n",
        "# Sort the image files based on the numerical order in their filenames\n",
        "image_files.sort(key=lambda x: int(re.search(r'\\d+', os.path.basename(x)).group()))\n",
        "\n",
        "# Convert the list of image files to a PDF file\n",
        "with open(output_path, 'wb') as pdf_file:\n",
        "    pdf_file.write(convert(image_files))\n",
        "\n",
        "print(f\"Combined PDF saved to {output_path}\")"
      ]
    },
    {
      "cell_type": "code",
      "execution_count": null,
      "metadata": {
        "id": "uVoJxSTXmNzK"
      },
      "outputs": [],
      "source": []
    }
  ],
  "metadata": {
    "accelerator": "TPU",
    "colab": {
      "gpuType": "V28",
      "provenance": []
    },
    "kernelspec": {
      "display_name": "Python 3",
      "name": "python3"
    },
    "language_info": {
      "name": "python"
    }
  },
  "nbformat": 4,
  "nbformat_minor": 0
}
